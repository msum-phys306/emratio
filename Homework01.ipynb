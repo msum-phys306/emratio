{
 "cells": [
  {
   "cell_type": "markdown",
   "execution_count": null,
   "metadata": {},
   "outputs": [],
   "source": [
    "# Homework 01\n",
    "## Your name here - double-click to edit\n",
    "Linda Winkler"
   ]
  },
  {
   "cell_type": "markdown",
   "execution_count": null,
   "metadata": {},
   "outputs": [],
   "source": [
    "### ASSUMED READING: Please read Newman Chapters 1 and 2 through Section 2.3 (page 46)"
   ]
  },
  {
   "cell_type": "markdown",
   "execution_count": null,
   "metadata": {},
   "outputs": [],
   "source": [
    "Always put your imports at the top. in future homeworks you will need to put these in yourself."
   ]
  },
  {
   "cell_type": "code",
   "execution_count": 1,
   "metadata": {},
   "outputs": [],
   "source": [
    "import numpy as np\n"
   ]
  },
  {
   "cell_type": "markdown",
   "execution_count": null,
   "metadata": {},
   "outputs": [],
   "source": [
    "## 1. Newman Exercise 2.4 (modified) [p. 36] Statement of Problem \n",
    "\n",
    "A spaceship travels from Earth in a straight line at relativistic speed $v$ (relative to the Earth’s rest frame) to another planet $x$ light years away (as seen in Earth’s rest frame). Write a program to ask the user for the value of $x$ and the speed $v$ as a fraction of the speed of light $c$, then do the following:\n",
    "\n",
    "a. Remember the speed of light $c =1$ light year/year.  *Use this fact to compute and printout the travel time in years in the rest frame of an observer on Earth.*\n",
    "b. Recall that in the rest frame of the spaceship, the distance to the destination is REDUCED by Lorentz contraction by a factor of $\\gamma = 1/\\sqrt{1-v^2/c^2}$.   *Use this information to compute and print out the travel time in years as seen in rest frame of a passenger on board the ship.*\n",
    "\n",
    "Use your program to calculate the answers for a planet 10 light years away with v = 0.99c. Make sure that your answer to part (b) makes sense. "
   ]
  },
  {
   "cell_type": "markdown",
   "execution_count": null,
   "metadata": {},
   "outputs": [],
   "source": [
    "### Put your code for Problem 1 in the cell below "
   ]
  },
  {
   "cell_type": "code",
   "execution_count": 2,
   "metadata": {},
   "outputs": [
    {
     "name": "stdout",
     "output_type": "stream",
     "text": "Change the distx value below to the distance in ly to the planet!\nChange the speed of the spacecraft below to the speed as a fracion of c!\n"
    }
   ],
   "source": [
    "print(\"Change the distx value below to the distance in ly to the planet!\")\n",
    "distx=10.0\n",
    "print(\"Change the speed of the spacecraft below to the speed as a fracion of c!\")\n",
    "vx=0.99"
   ]
  },
  {
   "cell_type": "code",
   "execution_count": 3,
   "metadata": {},
   "outputs": [
    {
     "name": "stdout",
     "output_type": "stream",
     "text": "How long to get to planet X?\nDistance to planet in ly: 10.0\nSpeed of craft in units of c: 0.99\nSpacecraft takes this long in yrs according to Earth observer: 10.1\nSpacecraft takes this long in yrs according to occupant in craft: 1.42\n"
    }
   ],
   "source": [
    "\n",
    "print(\" How long to get to planet X?\")\n",
    "print(\"Distance to planet in ly:\", distx)\n",
    "print(\"Speed of craft in units of c:\", vx)\n",
    "\n",
    "# Compute travel time in Earth frame as d/v (units of years)\n",
    "travel_time_EO=distx/vx\n",
    "#Compute the travel time to the planet in the frame of the spacecraft (distx is contracted)\n",
    "gamma_fac=1/(1-vx**2)**0.5\n",
    "travel_time_SC=distx/vx/gamma_fac\n",
    "\n",
    "print(\"Spacecraft takes this long in yrs according to Earth observer:\", '%.3g' % (travel_time_EO))\n",
    "print(\"Spacecraft takes this long in yrs according to occupant in craft:\", '%.3g' % (travel_time_SC))\n"
   ]
  },
  {
   "cell_type": "code",
   "execution_count": null,
   "metadata": {},
   "outputs": [],
   "source": [
    "### Discuss/explain your work for Problem 1 in this cell  (double-click to edit)\n",
    "## I used the simple formula dist=v*time to solve for the time the spacecraft takes according to an Earth frame.\n",
    "## Because the distance to the planet is Lorentz-contracted for an observer in the spacecraft, the time for the \n",
    "## spacecraft to reach the planet is reduced by factor gamma.\n",
    "## I learned about formatting the output to a certain number of sig. figs.!\n"
   ]
  },
  {
   "cell_type": "markdown",
   "execution_count": null,
   "metadata": {},
   "outputs": [],
   "source": [
    "## Newman Exercise 2.7 [p. 46] Statement of Problem \n",
    "\n",
    "The Catalan numbers $C_n$ are a sequence of integers 1, 1, 2, 5, 14, 42, 132$\\ldots$ that play an important role in quantum mechanics and the theory of disordered systems. (They were central to Eugene Wigner’s proof of the so-called semicircle law.) They are given by\n",
    "\n",
    "\\begin{equation}\n",
    "C_0 = 1,~~~~~ C_{n+1} = \\frac{4n+2}{n+2}C_n .\n",
    "\\end{equation}\n",
    "\n",
    "*Write a program that prints in increasing order all Catalan numbers less than or equal to one billion.*\n"
   ]
  },
  {
   "cell_type": "markdown",
   "execution_count": null,
   "metadata": {},
   "outputs": [],
   "source": [
    "### Put your code for Problem 2 in the cell below"
   ]
  },
  {
   "cell_type": "code",
   "execution_count": null,
   "metadata": {},
   "outputs": [],
   "source": [
    "cat=1.0\n",
    "n=0\n",
    "while cat <= 1.0E9:\n",
    "    cat=cat*(4*n+2)/(n+2)\n",
    "    n=n+1\n",
    "    print(\"Catalan no for n=\", n, \" is this:\", cat)\n",
    "\n"
   ]
  },
  {
   "cell_type": "markdown",
   "execution_count": null,
   "metadata": {},
   "outputs": [],
   "source": [
    "### Discuss/explain your work for Problem 2 in this cell (double-click to edit)\n",
    "###\n",
    "### The formula was placed inside a loop that used the \n",
    "### recursion relation for the Catalan numbers.\n",
    "### Before running, I was afraid there would be a huge output, so I tried a limit of 1000, then 1.0E6.\n",
    "### Seeing that the Catalan numbers did not explode, I then\n",
    "### was confident to use 1.0E9 as a limit.\n",
    "### I was surprised to see only 19 Catalan numbers for a limit of 1.0E9"
   ]
  }
 ],
 "metadata": {
  "kernelspec": {
   "display_name": "Python 3",
   "language": "python",
   "name": "python3"
  },
  "language_info": {
   "codemirror_mode": {
    "name": "ipython",
    "version": 3
   },
   "file_extension": ".py",
   "mimetype": "text/x-python",
   "name": "python",
   "nbconvert_exporter": "python",
   "pygments_lexer": "ipython3",
   "version": "3.7.6-final"
  }
 },
 "nbformat": 4,
 "nbformat_minor": 4
}