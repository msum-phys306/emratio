{
 "cells": [
  {
   "cell_type": "markdown",
   "execution_count": null,
   "metadata": {},
   "outputs": [],
   "source": [
    "# E over m  Experiment:  A Model\n",
    "## Your name here - double-click to edit\n"
   ]
  },
  {
   "cell_type": "markdown",
   "execution_count": null,
   "metadata": {},
   "outputs": [],
   "source": [
    "Always put your imports at the top. \n",
    "The main ones are below, abut add any imports from your simulation package."
   ]
  },
  {
   "cell_type": "code",
   "execution_count": 1,
   "metadata": {},
   "outputs": [],
   "source": [
    "import numpy as np\n",
    "from matplotlib import pyplot as plt\n",
    "from em_Simulation import HH_field # This is a function you will create\n"
   ]
  },
  {
   "cell_type": "markdown",
   "execution_count": null,
   "metadata": {},
   "outputs": [],
   "source": [
    "## Statement of Problem \n",
    "\n",
    "Charges are heated up in  a metal filament using a low voltage, and boil off.  As they boil off, they enter a region of electric field in which they are accelerated towards a positive circular plate.\n",
    "\n",
    "A hole in the center of the plate allows the charges to continue through in a region in which a magnetic field acts perpendicular to the path of the moving charges.  The path is bent into a semi-circlular path by the magnetic field, and the charges hit the plate a certain distance out from the center of the plate, where their enegery creates a bright spot upon their landing on a fluorescent ring painted on the plate.\n",
    "\n",
    "Your goal in this simulation is to use a simple Euler integration method to determine how far out from the center of the ring the charges strike, based on the accelerating potential and the magnetic field created by a pair of Helmholts coils.\n"
   ]
  },
  {
   "cell_type": "markdown",
   "metadata": {},
   "source": [
    "## Part 1\n",
    "In the code cell below:\n",
    "* Define the quantities you will need, using SI units.\n",
    "* From conservation of energy, code an equation that finds the final velocity of (v_e) an electron that has been accelerated through Vacc\n",
    "* Print the output velocity for an accelerating potential of 100 Volts.  Check that this is less than the speed of light!\n",
    "\n"
   ]
  },
  {
   "cell_type": "code",
   "execution_count": null,
   "metadata": {},
   "outputs": [],
   "source": []
  },
  {
   "cell_type": "markdown",
   "metadata": {},
   "source": [
    "## Part 2\n",
    "\n",
    "* In the accompanying simulation.py file, create a function that has as input: the number of wraps on the coil (N), the current into the coil in Amps (I), the radius of each coil in meters (L); \n",
    "* and that returns the magnetic field strength in SI units.\n",
    "* The beginning of the function, called HH_field, has been started in the emsimulation.py file\n",
    "\n",
    "In the code below, check that your function produces a reasonable magnetic field."
   ]
  },
  {
   "cell_type": "code",
   "execution_count": null,
   "metadata": {},
   "outputs": [],
   "source": []
  },
  {
   "cell_type": "markdown",
   "metadata": {},
   "source": [
    "## Part 3\n",
    "* Create a 3x1 vector array that points the Helmholtz field in the x-direction.\n",
    "* Create a 3x1 array that initiallizes the velocity of the charge to have the accelerated speed found earlier, and is in the z direction.\n",
    "* Create a position array initially set to the origin (the hole in the plate)\n",
    "* Recall how to initialize an array in numpy, ie:  new_array=np.array($[x-value, y-value, z-value]$)\n",
    "* In simulation.py, create a function that returns a vector representing the Lorentz force on the charge. (Recall there is a np.cross function)\n",
    "* By using a while loop and the position of the charge, update the velocity and position of the charge in time as it moves through the magnetic field.  Exit the loop when the charge has fallen back to z=0.\n",
    "* Recall you will need a dt that is reasonable.  Use the speed of the charge, and figure that it will travel a few cm overall (or a fraction of a mm in each time step), to determine a reasonable dt.  Be sure to explain what value you used for dt, and how you determined this\n",
    "* Be sure to print out the final position of the charge when it lands.  How may the radius of the path be determined from this?\n",
    "\n"
   ]
  },
  {
   "cell_type": "code",
   "execution_count": null,
   "metadata": {},
   "outputs": [],
   "source": []
  },
  {
   "cell_type": "markdown",
   "metadata": {},
   "source": [
    "## Part 4\n",
    "* Try making a plot of the position as the charge moves in the magnetic field.  The particle should move solely in the z-y plane.\n",
    "* The command plt.plot(charge_position$[1]$, charge_position$[2]$,'ro') placed inside the loop should plot each point as the while loop progresses.\n"
   ]
  },
  {
   "cell_type": "code",
   "execution_count": null,
   "metadata": {},
   "outputs": [],
   "source": []
  }
 ],
 "metadata": {
  "kernelspec": {
   "display_name": "Python 3",
   "language": "python",
   "name": "python3"
  },
  "language_info": {
   "codemirror_mode": {
    "name": "ipython",
    "version": 3
   },
   "file_extension": ".py",
   "mimetype": "text/x-python",
   "name": "python",
   "nbconvert_exporter": "python",
   "pygments_lexer": "ipython3",
   "version": "3.7.6-final"
  }
 },
 "nbformat": 4,
 "nbformat_minor": 4
}